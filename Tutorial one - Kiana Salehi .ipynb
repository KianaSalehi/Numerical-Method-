{
 "cells": [
  {
   "cell_type": "code",
   "execution_count": 1,
   "id": "38aee4be",
   "metadata": {},
   "outputs": [],
   "source": [
    "#Tutorial one\n",
    "#Jan 13th\n",
    "#Kiana Salehi"
   ]
  },
  {
   "cell_type": "code",
   "execution_count": 2,
   "id": "2aa36db2",
   "metadata": {},
   "outputs": [],
   "source": [
    "#Question 2\n",
    "\n",
    "#part A : \n",
    "#Invertible matrices of a given size form a group under multiplication. All matrices (invertible or not) of a given size form a monoid. Define the term \"monoid\"\n",
    "\n",
    "#Answer\n",
    "# A monoid is an algebraic structure from abstract algebra. It consists of a set M equipped with a single binary\n",
    "#operation (here \"multiplication\"), that satisfies assosiativity and has an idenetity element.\n",
    "\n",
    "\n",
    "######################################################################################################################\n",
    "\n",
    "#part B : \n",
    "#A product of three matrices A * B * C can be evaluated left-to-right or right-to-left. Which monoid property guarantees that this gives the same result?\n",
    "\n",
    "#answer:\n",
    "#assosiativity \n",
    "\n",
    "######################################################################################################################\n",
    "\n",
    "#part C : Assume you are given three matrices A, B, and C with sizes m*p, p*q, and q*n. The cost of multiplying two rectangular matrices with sizes x*y and y*z is O(x*y*z). What is the cost of the matrix product A*B*C if you use left-to-right and if you use right-to-left evaluation? Which cost is lower?\n",
    "#Answer :\n",
    "# so first let's do left to right : first (A*B) : O(m*p*q) and the result is matix D with m*q arrays -next step is D*C : O(m*q*n) =>  O(m*q*n) +  O(m*p*q) = O(m*(p+n)*q)\n",
    "#now let's do left to right : first (B*C) : O(p*q*n) and the result is matix C' with p*n arrays - next step is A*D' : O(m*p*n) => O(p*q*n)+ O(m*p*n) = O((m+q)*n*p)\n",
    "# so depending on what's the actual amount of m,n,p,q these two might have different costs.\n",
    "\n",
    "######################################################################################################################\n",
    "\n",
    "#part D :\n",
    "#Answer :\n",
    "# this function calculates the costs of diffrent ways of multiplying 4 matrices and calculates it with the minimum cost"
   ]
  },
  {
   "cell_type": "code",
   "execution_count": 3,
   "id": "47f6c590",
   "metadata": {},
   "outputs": [],
   "source": [
    "#Question 3 - part A\n",
    "\n",
    "#Assume there is a physical system defined by n variables and with and energy E that depends on these variables. Near a minimum of that energy, one can expand the energy into a Taylor series that then looks like\n",
    "#E(x^i) = 1/2 A_ij x^i x^j + b_i x^i + c\n",
    "#where higher order terms have been omitted, with a symmetric positive definite (spd) matrix A, a vector b, and a constant c.\n",
    "\n",
    "#answer\n",
    "#for the min of a function we need to find the roots of \\partial E/\\partial x^i =  A_ij x^j  + b_i and this is linear. So the problem would be to solve A_ij x^j  + b_i = 0\n"
   ]
  },
  {
   "cell_type": "code",
   "execution_count": 6,
   "id": "8bdaefb6",
   "metadata": {},
   "outputs": [
    {
     "name": "stdout",
     "output_type": "stream",
     "text": [
      "Location of minimum: [3.9999999999999987, -4.499999999999999]\n"
     ]
    }
   ],
   "source": [
    "#Question 3 - part B - defing the function to solve the linear system\n",
    "\n",
    "function find_minimum(A::Matrix, b::Vector, c::Number)\n",
    "\n",
    "    # Solve the linear system A * x = -b\n",
    "    x = -A \\ b\n",
    "    \n",
    "    return x\n",
    "end\n",
    "\n",
    "#example\n",
    "A1 = [1 2;3 4]\n",
    "b1 = [5,6]\n",
    "c1 = 7\n",
    "find_minimum(A1, b1, c1)\n",
    "x_min = find_minimum(A1, b1, c1)\n",
    "println(\"Location of minimum: \", x_min)"
   ]
  },
  {
   "cell_type": "code",
   "execution_count": 6,
   "id": "5bcf4fdc",
   "metadata": {},
   "outputs": [
    {
     "name": "stdout",
     "output_type": "stream",
     "text": [
      "Location of minimum: [-4.0, -2.0]\n"
     ]
    }
   ],
   "source": [
    "#Question 3 - part C - checking poetive definity\n",
    "\n",
    "#importing the library\n",
    "using LinearAlgebra\n",
    "\n",
    "#modifying the function\n",
    "function find_minimum(A::Matrix, b::Vector, c::Number)\n",
    "    \n",
    "    \n",
    "    # checking the eigen values to see if it's poetive definite \n",
    "    eigenvalues = eigvals(A)\n",
    "    if any(eigenvalues .<= 0)\n",
    "        error(\"Matrix A must be positive definite. Found non-positive eigenvalues.\")\n",
    "    end\n",
    "    \n",
    "    # Ensure A is symmetric\n",
    "    if !issymmetric(A)\n",
    "        error(\"Matrix A must be symmetric.\")\n",
    "    end\n",
    "    \n",
    "    # Solve the linear system A * x = -b\n",
    "    x = -A \\ b\n",
    "    \n",
    "    return x\n",
    "end\n",
    "\n",
    "\n",
    "#example  2\n",
    "A2 = [2 1; 1 3]\n",
    "b2 = [10,10]\n",
    "c2 = 7\n",
    "x_min_2 = find_minimum(A2, b2, c2)\n",
    "println(\"Location of minimum: \", x_min_2)"
   ]
  },
  {
   "cell_type": "code",
   "execution_count": 7,
   "id": "1d442912",
   "metadata": {},
   "outputs": [],
   "source": [
    "#Question 3 - part D - for a non trivial system\n",
    "\n",
    "#not complete!\n",
    "\n",
    "#E(x^i) = \\Sum_i ( x^i + x^(i-1) + sin(pi i / n) )^2  = \\Sum_i (x^i)^2 + (x^(i-1))^2 + 2  x^i  x^(i-1) + 2  x^i sin(pi i / n) + 2  x^(i-1) sin(pi i / n) +  sin(pi i / n)^2\n",
    "#first we need to bring this to the form of E(x^i) = 1/2 A_ij x^i x^j + b_i x^i + c\n",
    "# so c = \\Sum_i  sin(pi i / n))^2 \n",
    "# b can be  b_i = 2 sin(pi i / n) + 2 sin(pi (i+1) / n)  \n",
    "# A_ij = Diagonal part + off diagonal part  : diagonal =  (x^i)^2 + (x^(i-1))^2 , off diagonal = 2  x^i  x^(i-1)\n",
    "\n",
    "\n"
   ]
  },
  {
   "cell_type": "code",
   "execution_count": null,
   "id": "634b079f",
   "metadata": {},
   "outputs": [],
   "source": [
    "#chatgpt gave this hehe :)\n",
    "\n",
    "using LinearAlgebra\n",
    "using SparseArrays\n",
    "\n",
    "function generate_large_system(n::Int)\n",
    "    # Define A (tridiagonal matrix)\n",
    "    main_diag = ones(n) * 2  # Diagonal elements\n",
    "    off_diag = ones(n - 1)   # Off-diagonal elements\n",
    "    A = spdiagm(0 => main_diag, -1 => off_diag, 1 => off_diag)  # Sparse tridiagonal matrix\n",
    "\n",
    "    # Define b\n",
    "    b = zeros(n)\n",
    "    for i in 1:n\n",
    "        b[i] = 2 * sin(pi * i / n)\n",
    "    end\n",
    "\n",
    "    # Define c (constant term)\n",
    "    c = 0\n",
    "\n",
    "    return A, b, c\n",
    "end\n",
    "\n",
    "function find_minimum(A::SparseMatrixCSC, b::Vector, c::Number)\n",
    "    # Ensure A is symmetric\n",
    "    if !issymmetric(A)\n",
    "        error(\"Matrix A must be symmetric.\")\n",
    "    end\n",
    "\n",
    "    # Ensure A is positive definite by checking eigenvalues\n",
    "    eigenvalues = eigvals(Matrix(A))  # Convert sparse to dense for eigvals\n",
    "    if any(eigenvalues .<= 0)\n",
    "        error(\"Matrix A must be positive definite. Found non-positive eigenvalues.\")\n",
    "    end\n",
    "\n",
    "    # Solve the linear system A * x = -b\n",
    "    x = -A \\ b\n",
    "\n",
    "    # Return the location of the minimum\n",
    "    return x\n",
    "end\n",
    "\n",
    "# Example: Test with n = 10^6\n",
    "n = 10^6\n",
    "A, b, c = generate_large_system(n)\n",
    "\n",
    "@time x_min = find_minimum(A, b, c)  # Measure performance\n",
    "println(\"Computed minimum for n = $n variables.\")\n"
   ]
  }
 ],
 "metadata": {
  "kernelspec": {
   "display_name": "Julia 1.11.2",
   "language": "julia",
   "name": "julia-1.11"
  },
  "language_info": {
   "file_extension": ".jl",
   "mimetype": "application/julia",
   "name": "julia",
   "version": "1.11.2"
  }
 },
 "nbformat": 4,
 "nbformat_minor": 5
}
